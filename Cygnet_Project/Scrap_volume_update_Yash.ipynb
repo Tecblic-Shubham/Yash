{
  "nbformat": 4,
  "nbformat_minor": 0,
  "metadata": {
    "colab": {
      "name": "Scrap_volume_Yash.ipynb",
      "provenance": [],
      "collapsed_sections": []
    },
    "kernelspec": {
      "name": "python3",
      "display_name": "Python 3"
    },
    "language_info": {
      "name": "python"
    }
  },
  "cells": [
    {
      "cell_type": "code",
      "execution_count": 328,
      "metadata": {
        "id": "1rwivE5UJxcu"
      },
      "outputs": [],
      "source": [
        "import numpy as np\n",
        "import cv2\n",
        "from google.colab.patches import cv2_imshow\n",
        "import matplotlib.pyplot as plt\n",
        "import albumentations as a\n",
        "import warnings\n",
        "from PIL import Image\n",
        "import os\n",
        "from pathlib import Path\n",
        "from os import listdir\n",
        "warnings.filterwarnings('ignore')"
      ]
    },
    {
      "cell_type": "code",
      "source": [
        "class Lines:\n",
        "  def __init__(self):\n",
        "    return None\n",
        "\n",
        "  ##### Volume Block\n",
        "  def volume(self, filepath):\n",
        "    self.filepath = filepath\n",
        "    img = cv2.imread(self.filepath)\n",
        "\n",
        "\n",
        "    ### Detect the Yellow color lines\n",
        "    gr_img = cv2.cvtColor(img, cv2.COLOR_BGR2HSV)\n",
        "    lower_range = np.array([25,100,20])\n",
        "    upper_range = np.array([35,255,233])\n",
        "    maskr = cv2.inRange(gr_img, lower_range, upper_range)\n",
        "\n",
        "\n",
        "    ### Detect the Green color lines\n",
        "    lower_range = np.array([40,25,20])\n",
        "    upper_range = np.array([75,255, 255])\n",
        "    maskg = cv2.inRange(gr_img, lower_range, upper_range)\n",
        "\n",
        "\n",
        "    ### Joined the broken Green lines\n",
        "    kernel = np.ones((1,20), np.uint8)\n",
        "    d_im = cv2.dilate(maskg, kernel, iterations=2)\n",
        "    e_img = cv2.erode(d_im, kernel, iterations=3)\n",
        "\n",
        "\n",
        "    ### Remove the Folders\n",
        "    !rm -rf \"/content/masked_cropped_images\"\n",
        "    !rm -rf \"/content/masked_images\"\n",
        "\n",
        "\n",
        "    ### Joined the broken Yellow lines \n",
        "    kernel = np.ones((1,20), np.uint8)\n",
        "    d_im = cv2.dilate(maskr, kernel, iterations=2)\n",
        "    e_imr = cv2.erode(d_im, kernel, iterations=2)\n",
        "    if not os.path.exists(\"/content/masked_images/\"):\n",
        "      os.mkdir(\"/content/masked_images/\")\n",
        "    cv2.imwrite(\"/content/masked_images/resultr.png\",e_imr)\n",
        "    cv2.imwrite(\"/content/masked_images/resultg.png\",e_img)\n",
        "    filepath = \"/content/masked_images\"\n",
        "\n",
        "\n",
        "    ### Cropped the images vertically into 20 groups\n",
        "    for i in os.listdir(filepath):\n",
        "      if not i.startswith(\".\"):\n",
        "        input = filepath +\"/\"+ i\n",
        "        filename, file_extension = os.path.splitext(input)\n",
        "        im = Image.open(input)\n",
        "        imgwidth, imgheight = im.size\n",
        "        height = imgheight // 1\n",
        "        width = imgwidth // 20\n",
        "        for k in range(0, 1):\n",
        "          for j in range(0, 20):\n",
        "            box = (j * width, k * height, (j + 1) * width, (k + 1) * height)\n",
        "            a = im.crop(box)\n",
        "            if not os.path.exists(\"/content/masked_cropped_images/\"):\n",
        "              os.mkdir(\"/content/masked_cropped_images/\")\n",
        "            if not os.path.exists(\"/content/masked_cropped_images/\"+i[:-4]):\n",
        "              os.mkdir(\"/content/masked_cropped_images/\"+i[:-4])\n",
        "            a.save(\"/content/masked_cropped_images/\" + i[:-4]+\"/\" + str(k) + \"-\" + str(j) + file_extension)\n",
        "\n",
        "\n",
        "    ### Counted the lines\n",
        "    filepath = \"/content/masked_cropped_images/\"\n",
        "    h1r = 0\n",
        "    f1r = 0\n",
        "    for i in os.listdir(filepath):\n",
        "      h1 = 0\n",
        "      f1 = 0\n",
        "      imagepath = \"/content/masked_cropped_images/\"+i\n",
        "      for j in os.listdir(imagepath):\n",
        "        full_ipath = cv2.imread(imagepath+\"/\"+j,0)\n",
        "        h,f = cv2.threshold(full_ipath, 80, 255, cv2.THRESH_BINARY_INV)\n",
        "        contours, hierarchy = cv2.findContours(f, cv2.RETR_EXTERNAL, cv2.CHAIN_APPROX_SIMPLE)\n",
        "        lenr = len(contours) - 1\n",
        "        lenr = 10 - lenr\n",
        "        if(i == \"resultr\"):\n",
        "          h1 = h1+lenr\n",
        "          h1r = h1\n",
        "        elif(i == \"resultg\"):\n",
        "          f1 = f1+lenr\n",
        "          f1r = f1\n",
        "\n",
        "\n",
        "    ### Counted the Volume\n",
        "    hf = ((((h1r/20)+1)*3)*(((f1r/20)+1)*3))\n",
        "    print(\"Volume = \",(hf*0.5)*53.25)\n",
        "\n",
        "\n",
        "    ### Remove the Folders\n",
        "    !rm -rf \"/content/masked_cropped_images\"\n",
        "    !rm -rf \"/content/masked_images\"\n",
        "\n",
        "\n",
        "  ##### Metadata Block\n",
        "  def metadata(self, filepath):\n",
        "    self.filepath = filepath\n",
        "    basename = os.path.basename(self.filepath)\n",
        "    path = Path(basename).stem\n",
        "    img = cv2.imread(self.filepath)\n",
        "\n",
        "\n",
        "    ### Detect the Yellow color lines\n",
        "    gr_img = cv2.cvtColor(img, cv2.COLOR_BGR2HSV)\n",
        "    lower_range = np.array([25,100,20])\n",
        "    upper_range = np.array([35,255,233])\n",
        "    maskr = cv2.inRange(gr_img, lower_range, upper_range)\n",
        "\n",
        "\n",
        "    ### Detect the Green color lines\n",
        "    lower_range = np.array([40,25,20])\n",
        "    upper_range = np.array([75,255, 255])\n",
        "    maskg = cv2.inRange(gr_img, lower_range, upper_range)\n",
        "    if not os.path.exists(\"/content/\"+path):\n",
        "      os.mkdir(\"/content/\"+path)\n",
        "    if not os.path.exists(\"/content/\"+path+\"/masked_images/\"):\n",
        "      os.mkdir(\"/content/\"+path+\"/masked_images/\")\n",
        "    if not os.path.exists(\"/content/\"+path+\"/masked_images/result\"):\n",
        "      os.mkdir(\"/content/\"+path+\"/masked_images/result\")\n",
        "    cv2.imwrite(\"/content/\"+path+\"/masked_images/result/yellow.png\",maskr)\n",
        "    cv2.imwrite(\"/content/\"+path+\"/masked_images/result/green.png\",maskg)\n",
        "    \n",
        "    \n",
        "    ### Joined the broken Green lines\n",
        "    kernel = np.ones((1,20), np.uint8)\n",
        "    d_im = cv2.dilate(maskg, kernel, iterations=2)\n",
        "    e_img = cv2.erode(d_im, kernel, iterations=3)\n",
        "\n",
        "\n",
        "    ### Joined the broken Yellow lines \n",
        "    kernel = np.ones((1,20), np.uint8)\n",
        "    d_im = cv2.dilate(maskr, kernel, iterations=2)\n",
        "    e_imr = cv2.erode(d_im, kernel, iterations=2)\n",
        "    if not os.path.exists(\"/content/\"+path+\"/masked_images/\"):\n",
        "      os.mkdir(\"/content/\"+path+\"/masked_images/\")\n",
        "    if not os.path.exists(\"/content/\"+path+\"/masked_images/joined\"):\n",
        "      os.mkdir(\"/content/\"+path+\"/masked_images/joined\")\n",
        "    cv2.imwrite(\"/content/\"+path+\"/masked_images/joined/yellow.png\",e_imr)\n",
        "    cv2.imwrite(\"/content/\"+path+\"/masked_images/joined/green.png\",e_img)\n",
        "    filepath = \"/content/\"+path+\"/masked_images/joined\"\n",
        "\n",
        "\n",
        "    ### Draw and save the contours of joined images\n",
        "    for j in os.listdir(filepath):\n",
        "        img = filepath+\"/\"+j\n",
        "        image = cv2.imread(img,0)\n",
        "        thresh = cv2.threshold(image, 120, 255, cv2.THRESH_BINARY_INV)[1]\n",
        "\n",
        "        cnts = cv2.findContours(thresh, cv2.RETR_EXTERNAL, cv2.CHAIN_APPROX_SIMPLE)\n",
        "        cnts = cnts[0] if len(cnts) == 2 else cnts[1]\n",
        "        image = cv2.cvtColor(image, cv2.COLOR_GRAY2BGR)\n",
        "        lines = 0\n",
        "        for c in cnts:\n",
        "          cv2.drawContours(image, [c], -1, (0, 255, 0), 3)\n",
        "          lines += 1\n",
        "        if not os.path.exists(\"/content/\"+path+\"/masked_images/contours\"):\n",
        "          os.mkdir(\"/content/\"+path+\"/masked_images/contours\")\n",
        "        cv2.imwrite(\"/content/\"+path+\"/masked_images/contours/\"+j,image)\n",
        "\n",
        "    ### Cropped the images vertically into 10 groups\n",
        "    for i in os.listdir(filepath):\n",
        "      if not i.startswith(\".\"):\n",
        "        input = filepath +\"/\"+ i\n",
        "        filename, file_extension = os.path.splitext(input)\n",
        "        im = Image.open(input)\n",
        "        imgwidth, imgheight = im.size\n",
        "        height = imgheight // 1\n",
        "        width = imgwidth // 20\n",
        "        for k in range(0, 1):\n",
        "          for j in range(0, 20):\n",
        "            box = (j * width, k * height, (j + 1) * width, (k + 1) * height)\n",
        "            a = im.crop(box)\n",
        "            if not os.path.exists(\"/content/\"+path+\"/masked_cropped_images/\"):\n",
        "              os.mkdir(\"/content/\"+path+\"/masked_cropped_images/\")\n",
        "            if not os.path.exists(\"/content/\"+path+\"/masked_cropped_images/result\"):\n",
        "              os.mkdir(\"/content/\"+path+\"/masked_cropped_images/result\")\n",
        "            if not os.path.exists(\"/content/\"+path+\"/masked_cropped_images/result/\"+i[:-4]):\n",
        "              os.mkdir(\"/content/\"+path+\"/masked_cropped_images/result/\"+i[:-4])\n",
        "            a.save(\"/content/\"+path+\"/masked_cropped_images/result/\" + i[:-4]+\"/\" + str(k) + \"-\" + str(j) + file_extension)\n",
        "\n",
        "\n",
        "    ### Draw and save the contour lines of cropped images\n",
        "    filepath = \"/content/\"+path+\"/masked_cropped_images/result/\"\n",
        "    h1r = 0\n",
        "    f1r = 0\n",
        "    for i in os.listdir(filepath):\n",
        "      h1 = 0\n",
        "      f1 = 0\n",
        "      imagepath = \"/content/\"+path+\"/masked_cropped_images/result/\"+i\n",
        "      for j in os.listdir(imagepath):\n",
        "        img = imagepath+\"/\"+j\n",
        "        image = cv2.imread(img,0)\n",
        "        thresh = cv2.threshold(image, 120, 255, cv2.THRESH_BINARY_INV)[1]\n",
        "\n",
        "        cnts = cv2.findContours(thresh, cv2.RETR_EXTERNAL, cv2.CHAIN_APPROX_SIMPLE)\n",
        "        cnts = cnts[0] if len(cnts) == 2 else cnts[1]\n",
        "        image = cv2.cvtColor(image, cv2.COLOR_GRAY2BGR)\n",
        "        lines = 0\n",
        "        for c in cnts:\n",
        "          cv2.drawContours(image, [c], -1, (0, 255, 0), 3)\n",
        "          lines += 1\n",
        "        if not os.path.exists(\"/content/\"+path+\"/masked_cropped_images/contour/\"):\n",
        "              os.mkdir(\"/content/\"+path+\"/masked_cropped_images/contour/\")\n",
        "        if not os.path.exists(\"/content/\"+path+\"/masked_cropped_images/contour/\"+i):\n",
        "              os.mkdir(\"/content/\"+path+\"/masked_cropped_images/contour/\"+i)\n",
        "        cv2.imwrite(\"/content/\"+path+\"/masked_cropped_images/contour/\"+i+\"/\"+j,image)\n",
        "\n",
        "L = Lines()"
      ],
      "metadata": {
        "id": "qftkOrmtWTSI"
      },
      "execution_count": 355,
      "outputs": []
    },
    {
      "cell_type": "code",
      "source": [
        "L.metadata(\"/content/test_image/3638.png\")"
      ],
      "metadata": {
        "id": "FhaEiHfBBvXv"
      },
      "execution_count": 356,
      "outputs": []
    },
    {
      "cell_type": "code",
      "source": [
        "L.volume(\"/content/test_image/3638.png\")"
      ],
      "metadata": {
        "colab": {
          "base_uri": "https://localhost:8080/"
        },
        "id": "86Kfi2QESL6W",
        "outputId": "36ab3409-0f6f-4c6a-d796-a54b76ba3c9e"
      },
      "execution_count": 357,
      "outputs": [
        {
          "output_type": "stream",
          "name": "stdout",
          "text": [
            "Volume =  2900.0615625000005\n"
          ]
        }
      ]
    },
    {
      "cell_type": "code",
      "source": [
        "L.metadata(\"/content/test_image/4446.png\")"
      ],
      "metadata": {
        "id": "7tmnRk-0M9Lk"
      },
      "execution_count": 358,
      "outputs": []
    },
    {
      "cell_type": "code",
      "source": [
        "L.volume(\"/content/test_image/4446.png\")"
      ],
      "metadata": {
        "colab": {
          "base_uri": "https://localhost:8080/"
        },
        "id": "O6l_NyjEiCAs",
        "outputId": "035e25ab-0298-43f5-fb81-a056f589f57e"
      },
      "execution_count": 359,
      "outputs": [
        {
          "output_type": "stream",
          "name": "stdout",
          "text": [
            "Volume =  3666.2625\n"
          ]
        }
      ]
    },
    {
      "cell_type": "code",
      "source": [
        "L.metadata(\"/content/test_image/5659.png\")"
      ],
      "metadata": {
        "id": "m5V__PQANB3b"
      },
      "execution_count": 360,
      "outputs": []
    },
    {
      "cell_type": "code",
      "source": [
        "L.volume(\"/content/test_image/5659.png\")"
      ],
      "metadata": {
        "colab": {
          "base_uri": "https://localhost:8080/"
        },
        "id": "kYRq2p323TJO",
        "outputId": "c22f71b4-0171-4976-b245-a65f17e9cc69"
      },
      "execution_count": 361,
      "outputs": [
        {
          "output_type": "stream",
          "name": "stdout",
          "text": [
            "Volume =  4122.748125\n"
          ]
        }
      ]
    },
    {
      "cell_type": "code",
      "source": [
        "L.metadata(\"/content/test_image/1819.png\")"
      ],
      "metadata": {
        "id": "KphqFB3GWAGB"
      },
      "execution_count": 362,
      "outputs": []
    },
    {
      "cell_type": "code",
      "source": [
        "L.volume(\"/content/test_image/1819.png\")"
      ],
      "metadata": {
        "colab": {
          "base_uri": "https://localhost:8080/"
        },
        "id": "WhjzmIqD4L2V",
        "outputId": "11d696a4-89ca-4919-c46d-046440ab0d8b"
      },
      "execution_count": 363,
      "outputs": [
        {
          "output_type": "stream",
          "name": "stdout",
          "text": [
            "Volume =  1889.443125\n"
          ]
        }
      ]
    },
    {
      "cell_type": "code",
      "source": [
        "L.metadata(\"/content/test_image/2223.png\")"
      ],
      "metadata": {
        "id": "gf12UfIFWECV"
      },
      "execution_count": 364,
      "outputs": []
    },
    {
      "cell_type": "code",
      "source": [
        "L.volume(\"/content/test_image/2223.png\")"
      ],
      "metadata": {
        "colab": {
          "base_uri": "https://localhost:8080/"
        },
        "id": "VAt9fNd-5Z1F",
        "outputId": "50e28663-7832-472c-b34d-98e97e1a751c"
      },
      "execution_count": 365,
      "outputs": [
        {
          "output_type": "stream",
          "name": "stdout",
          "text": [
            "Volume =  1988.8875\n"
          ]
        }
      ]
    },
    {
      "cell_type": "code",
      "source": [
        "L.metadata(\"/content/test_image/2829.png\")"
      ],
      "metadata": {
        "id": "eDUp2nO8WI8I"
      },
      "execution_count": 366,
      "outputs": []
    },
    {
      "cell_type": "code",
      "source": [
        "L.volume(\"/content/test_image/2829.png\")"
      ],
      "metadata": {
        "colab": {
          "base_uri": "https://localhost:8080/"
        },
        "id": "8AcJlFMO5zOV",
        "outputId": "afee70a1-4549-4840-eb30-8b09570228c6"
      },
      "execution_count": 367,
      "outputs": [
        {
          "output_type": "stream",
          "name": "stdout",
          "text": [
            "Volume =  2036.8125\n"
          ]
        }
      ]
    },
    {
      "cell_type": "code",
      "source": [
        ""
      ],
      "metadata": {
        "id": "-D58rq8LvHtM"
      },
      "execution_count": null,
      "outputs": []
    }
  ]
}