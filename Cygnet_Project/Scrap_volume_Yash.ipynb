{
 "cells": [
  {
   "cell_type": "code",
   "execution_count": 3,
   "metadata": {
    "id": "1rwivE5UJxcu"
   },
   "outputs": [],
   "source": [
    "import numpy as np\n",
    "import cv2\n",
    "from google.colab.patches import cv2_imshow\n",
    "import matplotlib.pyplot as plt\n",
    "import albumentations as a\n",
    "import warnings\n",
    "from PIL import Image\n",
    "import os\n",
    "from os import listdir\n",
    "warnings.filterwarnings('ignore')"
   ]
  },
  {
   "cell_type": "code",
   "execution_count": 15,
   "metadata": {
    "id": "qftkOrmtWTSI"
   },
   "outputs": [],
   "source": [
    "class Lines:\n",
    "  def __init__(self):\n",
    "    return None\n",
    "\n",
    "  def linecount(self, filepath, xPieces, yPieces, width):\n",
    "    self.filepath = filepath\n",
    "    self.xPieces = xPieces\n",
    "    self.yPieces = yPieces\n",
    "    self.width = width\n",
    "    img = cv2.imread(self.filepath)\n",
    "\n",
    "    ### Detect the Yellow color lines\n",
    "    gr_img = cv2.cvtColor(img, cv2.COLOR_BGR2HSV)\n",
    "    lower_range = np.array([25,100,20])\n",
    "    upper_range = np.array([35,255,233])\n",
    "    maskr = cv2.inRange(gr_img, lower_range, upper_range)\n",
    "\n",
    "    ### Detect the Green color lines\n",
    "    lower_range = np.array([40,25,20])\n",
    "    upper_range = np.array([75,255, 255])\n",
    "    maskg = cv2.inRange(gr_img, lower_range, upper_range)\n",
    "\n",
    "    ### Joined the broken Green lines\n",
    "    kernel = np.ones((1,20), np.uint8)\n",
    "    d_im = cv2.dilate(maskg, kernel, iterations=2)\n",
    "    e_img = cv2.erode(d_im, kernel, iterations=3)\n",
    "\n",
    "    ### Joined the broken Yellow lines \n",
    "    kernel = np.ones((1,20), np.uint8)\n",
    "    d_im = cv2.dilate(maskr, kernel, iterations=2)\n",
    "    e_imr = cv2.erode(d_im, kernel, iterations=2)\n",
    "    cv2.imwrite(\"/content/testimage3/resultr.png\",e_imr)\n",
    "    cv2.imwrite(\"/content/testimage3/resultg.png\",e_img)\n",
    "    filepath = \"/content/testimage3\"\n",
    "\n",
    "    ### Removed the existing testimage4 folder\n",
    "    !rm -rf \"/content/testimage4\"\n",
    "\n",
    "    ### Cropped the images vertically into 10 groups\n",
    "    for i in os.listdir(filepath):\n",
    "      if not i.startswith(\".\"):\n",
    "        input = filepath +\"/\"+ i\n",
    "        filename, file_extension = os.path.splitext(input)\n",
    "        im = Image.open(input)\n",
    "        imgwidth, imgheight = im.size\n",
    "        height = imgheight // self.yPieces\n",
    "        width = imgwidth // self.xPieces\n",
    "        for k in range(0, self.yPieces):\n",
    "          for j in range(0, self.xPieces):\n",
    "            box = (j * width, k * height, (j + 1) * width, (k + 1) * height)\n",
    "            a = im.crop(box)\n",
    "            if not os.path.exists(\"/content/testimage4/\"):\n",
    "              os.mkdir(\"/content/testimage4/\")\n",
    "            if not os.path.exists(\"/content/testimage4/\"+i[:-4]):\n",
    "              os.mkdir(\"/content/testimage4/\"+i[:-4])\n",
    "            a.save(\"/content/testimage4/\" + i[:-4]+\"/\" + str(k) + \"-\" + str(j) + file_extension)\n",
    "\n",
    "    ## Counted the lines\n",
    "    filepath = \"/content/testimage4/\"\n",
    "    h1r = 0\n",
    "    f1r = 0\n",
    "    for i in os.listdir(filepath):\n",
    "      h1 = 0\n",
    "      f1 = 0\n",
    "      imagepath = \"/content/testimage4/\"+i\n",
    "      for j in os.listdir(imagepath):\n",
    "        full_ipath = cv2.imread(imagepath+\"/\"+j,0)\n",
    "        h,f = cv2.threshold(full_ipath, 80, 255, cv2.THRESH_BINARY_INV)\n",
    "        contours, hierarchy = cv2.findContours(f, cv2.RETR_EXTERNAL, cv2.CHAIN_APPROX_SIMPLE)\n",
    "        lenr = len(contours) - 1\n",
    "        lenr = 10 - lenr\n",
    "        if(i == \"resultr\"):\n",
    "          h1 = h1+lenr\n",
    "          h1r = h1\n",
    "        elif(i == \"resultg\"):\n",
    "          f1 = f1+lenr\n",
    "          f1r = f1\n",
    "\n",
    "    ### Counted the Volume\n",
    "    hf = ((((h1r/self.xPieces)+1)*3)*(((f1r/self.xPieces)+1)*3))\n",
    "    print(\"Volume = \",(hf*0.5)*self.width)\n",
    "L = Lines()"
   ]
  },
  {
   "cell_type": "code",
   "execution_count": 16,
   "metadata": {
    "colab": {
     "base_uri": "https://localhost:8080/"
    },
    "id": "86Kfi2QESL6W",
    "outputId": "6399f12b-a35a-455a-df11-36ee2fd8d9a1"
   },
   "outputs": [
    {
     "name": "stdout",
     "output_type": "stream",
     "text": [
      "Volume =  3285.3599999999997\n"
     ]
    }
   ],
   "source": [
    "img1 = cv2.imread(\"/content/test_image/3638.png\")\n",
    "sub_image = img1[:1080, 415:1450]\n",
    "cv2.imwrite(\"/content/test_image/temp.JPEG\",sub_image)\n",
    "L.linecount(\"/content/test_image/temp.JPEG\", 10,1,58.5)"
   ]
  },
  {
   "cell_type": "code",
   "execution_count": 17,
   "metadata": {
    "colab": {
     "base_uri": "https://localhost:8080/"
    },
    "id": "O6l_NyjEiCAs",
    "outputId": "302a3268-3a65-4db5-8906-8645b1f410af"
   },
   "outputs": [
    {
     "name": "stdout",
     "output_type": "stream",
     "text": [
      "Volume =  4106.7\n"
     ]
    }
   ],
   "source": [
    "img1 = cv2.imread(\"/content/test_image/4446.png\")\n",
    "sub_image = img1[:1080, 415:1450]\n",
    "cv2.imwrite(\"/content/test_image/temp.JPEG\",sub_image)\n",
    "L.linecount(\"/content/test_image/temp.JPEG\", 10,1,58.5)"
   ]
  },
  {
   "cell_type": "code",
   "execution_count": 18,
   "metadata": {
    "colab": {
     "base_uri": "https://localhost:8080/"
    },
    "id": "kYRq2p323TJO",
    "outputId": "e1447eb0-4b4a-4247-d895-b6a2951d41f6"
   },
   "outputs": [
    {
     "name": "stdout",
     "output_type": "stream",
     "text": [
      "Volume =  4885.920000000001\n"
     ]
    }
   ],
   "source": [
    "img1 = cv2.imread(\"/content/test_image/5659.png\")\n",
    "sub_image = img1[:1080, 415:1450]\n",
    "cv2.imwrite(\"/content/test_image/temp.JPEG\",sub_image)\n",
    "L.linecount(\"/content/test_image/temp.JPEG\", 10,1,58.5)"
   ]
  },
  {
   "cell_type": "code",
   "execution_count": 19,
   "metadata": {
    "colab": {
     "base_uri": "https://localhost:8080/"
    },
    "id": "WhjzmIqD4L2V",
    "outputId": "33574f46-798b-42b2-8598-0fc117aba456"
   },
   "outputs": [
    {
     "name": "stdout",
     "output_type": "stream",
     "text": [
      "Volume =  2685.15\n"
     ]
    }
   ],
   "source": [
    "img1 = cv2.imread(\"/content/test_image/1617.png\")\n",
    "sub_image = img1[:1080, 410:1500]\n",
    "cv2.imwrite(\"/content/test_image/temp.JPEG\",sub_image)\n",
    "L.linecount(\"/content/test_image/temp.JPEG\", 10,1,58.5)"
   ]
  },
  {
   "cell_type": "code",
   "execution_count": 20,
   "metadata": {
    "colab": {
     "base_uri": "https://localhost:8080/"
    },
    "id": "VAt9fNd-5Z1F",
    "outputId": "b38c2404-dc61-4e4e-fe74-d3c3b3b9b40f"
   },
   "outputs": [
    {
     "name": "stdout",
     "output_type": "stream",
     "text": [
      "Volume =  2316.6\n"
     ]
    }
   ],
   "source": [
    "img1 = cv2.imread(\"/content/test_image/2223.png\")\n",
    "sub_image = img1[:1080, 450:1500]\n",
    "cv2.imwrite(\"/content/test_image/temp.JPEG\",sub_image)\n",
    "L.linecount(\"/content/test_image/temp.JPEG\", 10,1,58.5)"
   ]
  },
  {
   "cell_type": "code",
   "execution_count": 21,
   "metadata": {
    "colab": {
     "base_uri": "https://localhost:8080/"
    },
    "id": "8AcJlFMO5zOV",
    "outputId": "93f39e26-bc5b-4661-fa80-970bfb49c3a1"
   },
   "outputs": [
    {
     "name": "stdout",
     "output_type": "stream",
     "text": [
      "Volume =  2211.3\n"
     ]
    }
   ],
   "source": [
    "img1 = cv2.imread(\"/content/test_image/2829.png\")\n",
    "sub_image = img1[:1080, 410:1480]\n",
    "cv2.imwrite(\"/content/test_image/temp.JPEG\",sub_image)\n",
    "L.linecount(\"/content/test_image/temp.JPEG\", 10,1,58.5)"
   ]
  },
  {
   "cell_type": "code",
   "execution_count": 41,
   "metadata": {
    "colab": {
     "base_uri": "https://localhost:8080/"
    },
    "id": "yrVgNaW355S4",
    "outputId": "17247196-84e2-4d6b-8a2b-69085ea44818"
   },
   "outputs": [
    {
     "name": "stdout",
     "output_type": "stream",
     "text": [
      "Volume =  852.93\n"
     ]
    }
   ],
   "source": [
    "img1 = cv2.imread(\"/content/test_image/648.png\")\n",
    "sub_image = img1[:1560, 800:1175]\n",
    "cv2.imwrite(\"/content/test_image/temp.JPEG\",sub_image)\n",
    "L.linecount(\"/content/test_image/temp.JPEG\", 10,1,27)"
   ]
  },
  {
   "cell_type": "code",
   "execution_count": 45,
   "metadata": {
    "colab": {
     "base_uri": "https://localhost:8080/"
    },
    "id": "SnnvyVF_8hx2",
    "outputId": "941e83fd-38f7-4409-e24f-d579ca374f2f"
   },
   "outputs": [
    {
     "name": "stdout",
     "output_type": "stream",
     "text": [
      "Volume =  1122.6599999999996\n"
     ]
    }
   ],
   "source": [
    "img1 = cv2.imread(\"/content/test_image/1485.png\")\n",
    "sub_image = img1[:1560, 750:1300]\n",
    "cv2.imwrite(\"/content/test_image/temp.JPEG\",sub_image)\n",
    "L.linecount(\"/content/test_image/temp.JPEG\", 10,1,27)"
   ]
  },
  {
   "cell_type": "code",
   "execution_count": 47,
   "metadata": {
    "colab": {
     "base_uri": "https://localhost:8080/"
    },
    "id": "MtmUOHiA8p66",
    "outputId": "19ddb3ef-bf8b-41d5-e9a4-fafbc55f4f3a"
   },
   "outputs": [
    {
     "name": "stdout",
     "output_type": "stream",
     "text": [
      "Volume =  1835.2575000000004\n"
     ]
    }
   ],
   "source": [
    "img1 = cv2.imread(\"/content/test_image/2646.png\")\n",
    "sub_image = img1[:1560, 650:1400]\n",
    "cv2.imwrite(\"/content/test_image/temp.JPEG\",sub_image)\n",
    "L.linecount(\"/content/test_image/temp.JPEG\", 10,1,28.5)"
   ]
  },
  {
   "cell_type": "code",
   "execution_count": null,
   "metadata": {
    "id": "tuaygAQ191cp"
   },
   "outputs": [],
   "source": []
  }
 ],
 "metadata": {
  "colab": {
   "collapsed_sections": [],
   "name": "Scrap_volume_Yash.ipynb",
   "provenance": []
  },
  "kernelspec": {
   "display_name": "Python 3 (ipykernel)",
   "language": "python",
   "name": "python3"
  },
  "language_info": {
   "codemirror_mode": {
    "name": "ipython",
    "version": 3
   },
   "file_extension": ".py",
   "mimetype": "text/x-python",
   "name": "python",
   "nbconvert_exporter": "python",
   "pygments_lexer": "ipython3",
   "version": "3.8.10"
  }
 },
 "nbformat": 4,
 "nbformat_minor": 1
}
