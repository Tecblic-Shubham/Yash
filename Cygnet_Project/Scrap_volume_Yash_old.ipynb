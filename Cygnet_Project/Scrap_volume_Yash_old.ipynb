{
 "cells": [
  {
   "cell_type": "code",
   "execution_count": 1,
   "metadata": {
    "id": "1rwivE5UJxcu"
   },
   "outputs": [],
   "source": [
    "import numpy as np\n",
    "import cv2\n",
    "from google.colab.patches import cv2_imshow\n",
    "import matplotlib.pyplot as plt\n",
    "import albumentations as a\n",
    "import warnings\n",
    "import os\n",
    "from os import listdir\n",
    "warnings.filterwarnings('ignore')"
   ]
  },
  {
   "cell_type": "code",
   "execution_count": 161,
   "metadata": {
    "id": "d0lSwe_BL_Ws"
   },
   "outputs": [],
   "source": [
    "class Lines:\n",
    "  def __init__(self):\n",
    "    return None\n",
    "\n",
    "  def linecount(self, filepath):\n",
    "    self.filepath = filepath\n",
    "    img = cv2.imread(self.filepath)\n",
    "\n",
    "    ### Detect the Yellow color lines\n",
    "    gr_img = cv2.cvtColor(img, cv2.COLOR_BGR2HSV)\n",
    "    lower_range = np.array([25,100,20])\n",
    "    upper_range = np.array([35,255,233])\n",
    "    maskr = cv2.inRange(gr_img, lower_range, upper_range)\n",
    "\n",
    "    ### Detect the Green color lines\n",
    "    lower_range = np.array([40,25,20])\n",
    "    upper_range = np.array([75,255, 255])\n",
    "    maskg = cv2.inRange(gr_img, lower_range, upper_range)\n",
    "\n",
    "    ### Joined the broken Green lines\n",
    "    kernel = np.ones((1,20), np.uint8)\n",
    "    d_im = cv2.dilate(maskg, kernel, iterations=2)\n",
    "    e_img = cv2.erode(d_im, kernel, iterations=3)\n",
    "\n",
    "    ### Joined the broken Yellow lines \n",
    "    kernel = np.ones((1,20), np.uint8)\n",
    "    d_im = cv2.dilate(maskr, kernel, iterations=2)\n",
    "    e_imr = cv2.erode(d_im, kernel, iterations=2)\n",
    "    cv2.imwrite(\"/content/testimage3/resultr.png\",e_imr)\n",
    "    cv2.imwrite(\"/content/testimage3/resultg.png\",e_img)\n",
    "    filepath = \"/content/testimage3\"\n",
    "\n",
    "    ### Removed the existing testimage4 folder\n",
    "    !rm -rf \"/content/testimage4\"\n",
    "\n",
    "    ### Cropped the images vertically into 10 groups\n",
    "    for i in os.listdir(filepath):\n",
    "      if not i.startswith(\".\"):\n",
    "        transform1 = a.Compose([a.Crop(x_min=380, y_min=0, x_max=510, y_max=1560, always_apply=False, p=1.0)])\n",
    "        transform2 = a.Compose([a.Crop(x_min=510, y_min=0, x_max=640, y_max=1560, always_apply=False, p=1.0)])\n",
    "        transform3 = a.Compose([a.Crop(x_min=640, y_min=0, x_max=770, y_max=1560, always_apply=False, p=1.0)])\n",
    "        transform4 = a.Compose([a.Crop(x_min=770, y_min=0, x_max=900, y_max=1560, always_apply=False, p=1.0)])\n",
    "        transform5 = a.Compose([a.Crop(x_min=900, y_min=0, x_max=1030, y_max=1560, always_apply=False, p=1.0)])\n",
    "        transform6 = a.Compose([a.Crop(x_min=1030, y_min=0, x_max=1160, y_max=1560, always_apply=False, p=1.0)])\n",
    "        transform7 = a.Compose([a.Crop(x_min=1160, y_min=0, x_max=1290, y_max=1560, always_apply=False, p=1.0)])\n",
    "        transform8 = a.Compose([a.Crop(x_min=1290, y_min=0, x_max=1420, y_max=1560, always_apply=False, p=1.0)])\n",
    "        transform9 = a.Compose([a.Crop(x_min=1420, y_min=0, x_max=1550, y_max=1560, always_apply=False, p=1.0)])\n",
    "        transform10 = a.Compose([a.Crop(x_min=1550, y_min=0, x_max=1680, y_max=1560, always_apply=False, p=1.0)])\n",
    "        image = cv2.imread(f'{filepath}/{i}')\n",
    "        transformed1 = transform1(image=image)\n",
    "        transformed2 = transform2(image=image)\n",
    "        transformed3 = transform3(image=image)\n",
    "        transformed4 = transform4(image=image)\n",
    "        transformed5 = transform5(image=image)\n",
    "        transformed6 = transform6(image=image)\n",
    "        transformed7 = transform7(image=image)\n",
    "        transformed8 = transform8(image=image)\n",
    "        transformed9 = transform8(image=image)\n",
    "        transformed10 = transform10(image=image)    \n",
    "        transformed_image1 = transformed1[\"image\"]\n",
    "        transformed_image2 = transformed2[\"image\"]\n",
    "        transformed_image3 = transformed3[\"image\"]\n",
    "        transformed_image4 = transformed4[\"image\"]\n",
    "        transformed_image5 = transformed5[\"image\"]\n",
    "        transformed_image6 = transformed6[\"image\"]\n",
    "        transformed_image7 = transformed7[\"image\"]\n",
    "        transformed_image8 = transformed8[\"image\"]\n",
    "        transformed_image9 = transformed9[\"image\"]\n",
    "        transformed_image10 = transformed10[\"image\"] \n",
    "      if not os.path.exists(\"/content/testimage4/\"):\n",
    "        os.mkdir(\"/content/testimage4/\")   \n",
    "      if not os.path.exists(\"/content/testimage4/\"+i[:-4]):\n",
    "        os.mkdir(\"/content/testimage4/\"+i[:-4])\n",
    "        cv2.imwrite(\"/content/testimage4/\"+i[:-4]+\"/transformed_image1.png\",transformed_image1)\n",
    "        cv2.imwrite(\"/content/testimage4/\"+i[:-4]+\"/transformed_image2.png\",transformed_image2)\n",
    "        cv2.imwrite(\"/content/testimage4/\"+i[:-4]+\"/transformed_image3.png\",transformed_image3)\n",
    "        cv2.imwrite(\"/content/testimage4/\"+i[:-4]+\"/transformed_image4.png\",transformed_image4)\n",
    "        cv2.imwrite(\"/content/testimage4/\"+i[:-4]+\"/transformed_image5.png\",transformed_image5)\n",
    "        cv2.imwrite(\"/content/testimage4/\"+i[:-4]+\"/transformed_image6.png\",transformed_image6)\n",
    "        cv2.imwrite(\"/content/testimage4/\"+i[:-4]+\"/transformed_image7.png\",transformed_image7)\n",
    "        cv2.imwrite(\"/content/testimage4/\"+i[:-4]+\"/transformed_image8.png\",transformed_image8)\n",
    "        cv2.imwrite(\"/content/testimage4/\"+i[:-4]+\"/transformed_image9.png\",transformed_image9)\n",
    "        cv2.imwrite(\"/content/testimage4/\"+i[:-4]+\"/transformed_image10.png\",transformed_image10)\n",
    "\n",
    "    ## Counted the lines\n",
    "    filepath = \"/content/testimage4/\"\n",
    "    h1r = 0\n",
    "    f1r = 0\n",
    "    for i in os.listdir(filepath):\n",
    "      h1 = 0\n",
    "      f1 = 0\n",
    "      imagepath = \"/content/testimage4/\"+i\n",
    "      for j in os.listdir(imagepath):\n",
    "        full_ipath = cv2.imread(imagepath+\"/\"+j,0)\n",
    "        h,f = cv2.threshold(full_ipath, 80, 255, cv2.THRESH_BINARY_INV)\n",
    "        contours, hierarchy = cv2.findContours(f, cv2.RETR_EXTERNAL, cv2.CHAIN_APPROX_SIMPLE)\n",
    "        lenr = len(contours) - 1\n",
    "        lenr = 10 - lenr\n",
    "        if(i == \"resultr\"):\n",
    "          h1 = h1+lenr\n",
    "          h1r = h1\n",
    "        elif(i == \"resultg\"):\n",
    "          f1 = f1+lenr\n",
    "          f1r = f1\n",
    "\n",
    "    ### Counted the Volume\n",
    "    hf = ((((h1r/10)+1)*3)*(((f1r/10)+1)*3))\n",
    "    print(\"Volume = \",(hf*0.5)*58.5)\n",
    "L = Lines()"
   ]
  },
  {
   "cell_type": "code",
   "execution_count": 166,
   "metadata": {
    "colab": {
     "base_uri": "https://localhost:8080/"
    },
    "id": "eFCyq-X1PBBF",
    "outputId": "dd006ef0-d6bb-43c7-c56a-353d0ea8e5c8"
   },
   "outputs": [
    {
     "name": "stdout",
     "output_type": "stream",
     "text": [
      "Volume =  773.9549999999999\n"
     ]
    }
   ],
   "source": [
    "L.linecount(\"/content/test_image/First.JPEG\")   ### Actual was 648"
   ]
  },
  {
   "cell_type": "code",
   "execution_count": 167,
   "metadata": {
    "colab": {
     "base_uri": "https://localhost:8080/"
    },
    "id": "vN-v1iioPP5s",
    "outputId": "3fa3e08a-c475-4f8a-e4fe-b3554ee7ff8c"
   },
   "outputs": [
    {
     "name": "stdout",
     "output_type": "stream",
     "text": [
      "Volume =  1100.385\n"
     ]
    }
   ],
   "source": [
    "L.linecount(\"/content/test_image/Second.JPEG\")  ### Actual was 1485"
   ]
  },
  {
   "cell_type": "code",
   "execution_count": 168,
   "metadata": {
    "colab": {
     "base_uri": "https://localhost:8080/"
    },
    "id": "IFdUOaxChmZD",
    "outputId": "de7c4cda-b68d-446f-ce64-36ffe7df5a4c"
   },
   "outputs": [
    {
     "name": "stdout",
     "output_type": "stream",
     "text": [
      "Volume =  2316.6\n"
     ]
    }
   ],
   "source": [
    "L.linecount(\"/content/test_image/Third.JPEG\")  ### Actual was 2646"
   ]
  },
  {
   "cell_type": "code",
   "execution_count": null,
   "metadata": {
    "id": "M0Mtjsb2hqx5"
   },
   "outputs": [],
   "source": []
  }
 ],
 "metadata": {
  "colab": {
   "collapsed_sections": [],
   "name": "Scrap_volume_Yash.ipynb",
   "provenance": []
  },
  "kernelspec": {
   "display_name": "Python 3 (ipykernel)",
   "language": "python",
   "name": "python3"
  },
  "language_info": {
   "codemirror_mode": {
    "name": "ipython",
    "version": 3
   },
   "file_extension": ".py",
   "mimetype": "text/x-python",
   "name": "python",
   "nbconvert_exporter": "python",
   "pygments_lexer": "ipython3",
   "version": "3.8.10"
  }
 },
 "nbformat": 4,
 "nbformat_minor": 1
}
